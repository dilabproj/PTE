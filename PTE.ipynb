{
 "cells": [
  {
   "cell_type": "code",
   "execution_count": null,
   "id": "ebff9ae2",
   "metadata": {
    "id": "ebff9ae2"
   },
   "outputs": [],
   "source": [
    "import os\n",
    "import time\n",
    "import torch\n",
    "import numpy as np\n",
    "import pandas as pd\n",
    "from torch import nn\n",
    "from torchmetrics.regression import SymmetricMeanAbsolutePercentageError\n",
    "\n",
    "import data\n",
    "import models\n",
    "import dataloader_last as dataloader\n",
    "import inference\n",
    "import training"
   ]
  },
  {
   "cell_type": "code",
   "execution_count": null,
   "id": "1835b0d6",
   "metadata": {
    "id": "1835b0d6"
   },
   "outputs": [],
   "source": [
    "torch.manual_seed(0)\n",
    "np.random.seed(0)"
   ]
  },
  {
   "cell_type": "markdown",
   "id": "bb1d0987",
   "metadata": {
    "id": "bb1d0987"
   },
   "source": [
    "# configure"
   ]
  },
  {
   "cell_type": "code",
   "execution_count": 1,
   "id": "126e7723",
   "metadata": {
    "id": "126e7723"
   },
   "outputs": [],
   "source": [
    "#all_roads = ['nfb0019','nfb0425','nfb0431','nfb0033','nfb0061','nfb0064','nfb0327','nfb0328', 'nfb0063','nfb0247','nfb0248','nfb0117','nfb0124','nfb0123']\n",
    "all_roads = ['nfb0019']"
   ]
  },
  {
   "cell_type": "code",
   "execution_count": null,
   "id": "0b02d0ca",
   "metadata": {
    "id": "0b02d0ca"
   },
   "outputs": [],
   "source": [
    "root_path = \"./nfb_final\"\n",
    "n_batch = 128\n",
    "n_epoche = 10\n",
    "n_workers = 0"
   ]
  },
  {
   "cell_type": "markdown",
   "id": "9bc434ec",
   "metadata": {
    "id": "9bc434ec"
   },
   "source": [
    "# Training & Testing"
   ]
  },
  {
   "cell_type": "code",
   "execution_count": null,
   "id": "132aad9f",
   "metadata": {
    "id": "132aad9f",
    "outputId": "aba556c8-73d6-458b-ce08-afd2d021eb39"
   },
   "outputs": [],
   "source": [
    "device = torch.device(\"cuda:2\" if torch.cuda.is_available() else \"cpu\")\n",
    "device"
   ]
  },
  {
   "cell_type": "code",
   "execution_count": null,
   "id": "4946a942",
   "metadata": {
    "id": "4946a942"
   },
   "outputs": [],
   "source": [
    "dir_name = './best_model/'"
   ]
  },
  {
   "cell_type": "code",
   "execution_count": null,
   "id": "e9bc88c7",
   "metadata": {
    "id": "e9bc88c7"
   },
   "outputs": [],
   "source": [
    "if not os.path.isdir(dir_name):\n",
    "    os.mkdir(dir_name)"
   ]
  },
  {
   "cell_type": "markdown",
   "id": "e606aacd",
   "metadata": {
    "id": "e606aacd"
   },
   "source": [
    "## Model"
   ]
  },
  {
   "cell_type": "code",
   "execution_count": null,
   "id": "122f68d2",
   "metadata": {
    "id": "122f68d2",
    "outputId": "ca565ea8-5a7e-4808-e8d9-3b281ab934f5"
   },
   "outputs": [],
   "source": [
    "model_name = 'PTE'\n",
    "print(model_name)"
   ]
  },
  {
   "cell_type": "code",
   "execution_count": null,
   "id": "98bff120",
   "metadata": {
    "id": "98bff120"
   },
   "outputs": [],
   "source": [
    "if not os.path.isdir(f'{dir_name}/{model_name}/'):\n",
    "    os.mkdir(f'{dir_name}/{model_name}/')"
   ]
  },
  {
   "cell_type": "code",
   "execution_count": null,
   "id": "54151df1",
   "metadata": {
    "id": "54151df1",
    "outputId": "77322fef-213a-47ab-ce42-7ad5f3e510f4"
   },
   "outputs": [],
   "source": [
    "for road in all_roads:\n",
    "\n",
    "    print(f'====={road}=====')\n",
    "\n",
    "    path = f'{dir_name}/{model_name}/{road}/'\n",
    "    if not os.path.isdir(path):\n",
    "        os.mkdir(path)\n",
    "\n",
    "    origin_df, trav_mean, trav_std = data.roads(root_path, road)\n",
    "\n",
    "    for predict_time in range(0, 8):\n",
    "\n",
    "        model_4 = models.DAT()\n",
    "        model_4 = model_4.to(device)\n",
    "\n",
    "        optimizer = torch.optim.AdamW(model_4.parameters(), lr=1e-4)\n",
    "        scheduler = torch.optim.lr_scheduler.StepLR(optimizer, 1.0, gamma=0.98)\n",
    "\n",
    "        print('For predict time %s day' % predict_time)\n",
    "        selecteddata = f'_{predict_time}d_last1h'\n",
    "        loaders = data.create_dataloader(road, root_path, selecteddata, n_batch, n_workers)\n",
    "\n",
    "        print('training...')\n",
    "        training.transformer_train(n_epoche, model_4, loaders['train'], loaders['test'], trav_mean, trav_std, optimizer, scheduler, path, predict_time)"
   ]
  },
  {
   "cell_type": "markdown",
   "id": "9cccffa0",
   "metadata": {
    "id": "9cccffa0"
   },
   "source": [
    "## Test"
   ]
  },
  {
   "cell_type": "code",
   "execution_count": null,
   "id": "f3ec58de",
   "metadata": {
    "id": "f3ec58de"
   },
   "outputs": [],
   "source": [
    "road_all_mae, road_all_rmse, road_all_smape = {}, {}, {}\n",
    "road_peak_mae, road_peak_rmse, road_peak_smape = {}, {}, {}\n",
    "road_off_peak_mae, road_off_peak_rmse, road_off_peak_smape = {}, {}, {}\n",
    "\n",
    "\n",
    "for road in all_roads:\n",
    "    path = f'{dir_name}/{model_name}/{road}/'\n",
    "    print('testing...')\n",
    "\n",
    "    all_mae, all_rmse, all_smape = [], [], []\n",
    "    peak_mae, peak_rmse, peak_smape = [], [], []\n",
    "    off_peak_mae, off_peak_rmse, off_peak_smape = [], [], []\n",
    "\n",
    "    origin_df, trav_mean, trav_std = data.roads(root_path, road)\n",
    "\n",
    "    for predict_time in range(0, 8):\n",
    "        print('testing...')\n",
    "\n",
    "        model_4 = models.PTE()\n",
    "        model_4 = model_4.to(device)\n",
    "        model_4.load_state_dict(torch.load(path + f'model_{predict_time}.pth'))\n",
    "\n",
    "        print('For predict time %s day' % predict_time)\n",
    "        selecteddata = f'_{predict_time}d_last1h'\n",
    "        loaders = data.create_dataloader(road, root_path, selecteddata, n_batch, n_workers)\n",
    "\n",
    "        all_mae_loss, all_rmse_loss, all_smape_loss, \\\n",
    "        peak_mae_loss, peak_rmse_loss, peak_smape_loss, \\\n",
    "        off_peak_mae_loss, off_peak_rmse_loss, off_peak_smape_loss = inference.transformer_test_peak_off_peak(model_4, loaders['test'], trav_mean, trav_std)\n",
    "\n",
    "        all_rmse.append(all_rmse_loss)\n",
    "        all_mae.append(all_mae_loss)\n",
    "        all_smape.append(all_smape_loss)\n",
    "\n",
    "        peak_rmse.append(peak_rmse_loss)\n",
    "        peak_mae.append(peak_mae_loss)\n",
    "        peak_smape.append(peak_smape_loss)\n",
    "\n",
    "        off_peak_rmse.append(off_peak_rmse_loss)\n",
    "        off_peak_mae.append(off_peak_mae_loss)\n",
    "        off_peak_smape.append(off_peak_smape_loss)\n",
    "\n",
    "    road_all_rmse[road] = all_rmse\n",
    "    road_all_mae[road] = all_mae\n",
    "    road_all_smape[road] = all_smape\n",
    "\n",
    "    road_peak_rmse[road] = peak_rmse\n",
    "    road_peak_mae[road] = peak_mae\n",
    "    road_peak_smape[road] = peak_smape\n",
    "\n",
    "    road_off_peak_rmse[road] = off_peak_rmse\n",
    "    road_off_peak_mae[road] = off_peak_mae\n",
    "    road_off_peak_smape[road] = off_peak_smape"
   ]
  },
  {
   "cell_type": "code",
   "execution_count": null,
   "id": "6cd70bc2",
   "metadata": {
    "id": "6cd70bc2"
   },
   "outputs": [],
   "source": [
    "pd.DataFrame(road_all_mae).T"
   ]
  },
  {
   "cell_type": "code",
   "execution_count": null,
   "id": "ad691867",
   "metadata": {
    "id": "ad691867"
   },
   "outputs": [],
   "source": [
    "pd.DataFrame(road_all_rmse).T"
   ]
  },
  {
   "cell_type": "code",
   "execution_count": null,
   "id": "18a90084",
   "metadata": {
    "id": "18a90084"
   },
   "outputs": [],
   "source": [
    "pd.DataFrame(road_all_smape).T"
   ]
  },
  {
   "cell_type": "code",
   "execution_count": null,
   "id": "8c9944ad",
   "metadata": {
    "id": "8c9944ad"
   },
   "outputs": [],
   "source": [
    "pd.DataFrame(road_peak_mae).T"
   ]
  },
  {
   "cell_type": "code",
   "execution_count": null,
   "id": "6d3300cc",
   "metadata": {
    "id": "6d3300cc"
   },
   "outputs": [],
   "source": [
    "pd.DataFrame(road_peak_rmse).T"
   ]
  },
  {
   "cell_type": "code",
   "execution_count": null,
   "id": "284f508b",
   "metadata": {
    "id": "284f508b"
   },
   "outputs": [],
   "source": [
    "pd.DataFrame(road_peak_smape).T"
   ]
  },
  {
   "cell_type": "code",
   "execution_count": null,
   "id": "3bc47f91",
   "metadata": {
    "id": "3bc47f91"
   },
   "outputs": [],
   "source": [
    "pd.DataFrame(road_off_peak_mae).T"
   ]
  },
  {
   "cell_type": "code",
   "execution_count": null,
   "id": "727e3616",
   "metadata": {
    "id": "727e3616"
   },
   "outputs": [],
   "source": [
    "pd.DataFrame(road_off_peak_rmse).T"
   ]
  },
  {
   "cell_type": "code",
   "execution_count": null,
   "id": "87589cf1",
   "metadata": {
    "id": "87589cf1"
   },
   "outputs": [],
   "source": [
    "pd.DataFrame(road_off_peak_smape).T"
   ]
  },
  {
   "cell_type": "code",
   "execution_count": null,
   "id": "84ff9372",
   "metadata": {
    "id": "84ff9372"
   },
   "outputs": [],
   "source": [
    "final, final_peak, final_off_peak = {}, {}, {}\n",
    "for road in roads:\n",
    "    temp, temp_peak, temp_off_peak = [], [], []\n",
    "    for i in range(8):\n",
    "        temp.append(road_all_mae[road][i])\n",
    "        temp.append(road_all_rmse[road][i])\n",
    "        temp.append(road_all_smape[road][i])\n",
    "        temp_peak.append(road_peak_mae[road][i])\n",
    "        temp_peak.append(road_peak_rmse[road][i])\n",
    "        temp_peak.append(road_peak_smape[road][i])\n",
    "        temp_off_peak.append(road_off_peak_mae[road][i])\n",
    "        temp_off_peak.append(road_off_peak_rmse[road][i])\n",
    "        temp_off_peak.append(road_off_peak_smape[road][i])\n",
    "    final[road] = temp\n",
    "    final_peak[road] = temp_peak\n",
    "    final_off_peak[road] = temp_off_peak"
   ]
  },
  {
   "cell_type": "code",
   "execution_count": null,
   "id": "8b849850",
   "metadata": {
    "id": "8b849850"
   },
   "outputs": [],
   "source": [
    "pd.DataFrame(final).T.to_csv('trans all.csv')"
   ]
  },
  {
   "cell_type": "code",
   "execution_count": null,
   "id": "b52d5b5b",
   "metadata": {
    "id": "b52d5b5b"
   },
   "outputs": [],
   "source": [
    "pd.DataFrame(final_peak).T.to_csv('trans peak.csv')"
   ]
  },
  {
   "cell_type": "code",
   "execution_count": null,
   "id": "f3be17e7",
   "metadata": {
    "id": "f3be17e7"
   },
   "outputs": [],
   "source": [
    "pd.DataFrame(final_off_peak).T.to_csv('trans off.csv')"
   ]
  }
 ],
 "metadata": {
  "colab": {
   "provenance": []
  },
  "kernelspec": {
   "display_name": "Python 3 (ipykernel)",
   "language": "python",
   "name": "python3"
  },
  "language_info": {
   "codemirror_mode": {
    "name": "ipython",
    "version": 3
   },
   "file_extension": ".py",
   "mimetype": "text/x-python",
   "name": "python",
   "nbconvert_exporter": "python",
   "pygments_lexer": "ipython3",
   "version": "3.7.16"
  }
 },
 "nbformat": 4,
 "nbformat_minor": 5
}
